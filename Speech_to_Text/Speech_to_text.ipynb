{
  "nbformat": 4,
  "nbformat_minor": 0,
  "metadata": {
    "colab": {
      "name": "Copy of Speech-to-text.ipynb",
      "provenance": [],
      "collapsed_sections": []
    },
    "kernelspec": {
      "name": "python3",
      "display_name": "Python 3"
    },
    "language_info": {
      "name": "python"
    },
    "accelerator": "GPU"
  },
  "cells": [
    {
      "cell_type": "markdown",
      "metadata": {
        "id": "MY3tVLxcI7M0"
      },
      "source": [
        "**Colab Link for the notebook** - https://colab.research.google.com/drive/16eqn6QtGsANlDvPwZ_jNrE6c_YmJ3wy4?usp=sharing"
      ]
    },
    {
      "cell_type": "markdown",
      "metadata": {
        "id": "DBiw7-dig67z"
      },
      "source": [
        "#Data Collection\n",
        "Our dataset comprises of 2 parts one part is a **subset of Tensorflow's Speech command dataset** and the other part was **created by our team and some of our friends**. We have tried getting as much data we could get during the week and are training our model on the same.\n",
        "\n",
        "**Source 1 -** https://drive.google.com/drive/folders/1m0qeN1g32a7GKmeWt11A0XeGnlGqvBBh?usp=sharing\n",
        "\n",
        "**Source 2 -** https://www.kaggle.com/c/tensorflow-speech-recognition-challenge\n",
        "\n",
        "Also we have priortized the words based on the need and eliminated quiet a decent part of vocab so that we could get atleast a 2 digit accuracy figure. \n",
        "\n",
        "However 1 digit accuracy would do too considering about a 100 classes and very less data, but please don't overfit.\n"
      ]
    },
    {
      "cell_type": "code",
      "metadata": {
        "id": "KgHgTq4JyKPa"
      },
      "source": [
        "from google.colab import files\n",
        "\n",
        "files.upload()"
      ],
      "execution_count": null,
      "outputs": []
    },
    {
      "cell_type": "code",
      "metadata": {
        "id": "TkbNuo2pv9_s"
      },
      "source": [
        "!pip install -q kaggle\n",
        "!mkdir -p ~/.kaggle\n",
        "!cp kaggle.json ~/.kaggle/\n",
        "!ls ~/.kaggle\n",
        "!chmod 600 /root/.kaggle/kaggle.json"
      ],
      "execution_count": null,
      "outputs": []
    },
    {
      "cell_type": "code",
      "metadata": {
        "id": "479V3iV9gM5b"
      },
      "source": [
        "#Downloading tensorflow speech command dataset\n",
        "!kaggle competitions download -c tensorflow-speech-recognition-challenge"
      ],
      "execution_count": null,
      "outputs": []
    },
    {
      "cell_type": "code",
      "metadata": {
        "id": "UpsPq4IOy5uR"
      },
      "source": [
        "!apt-get install p7zip-full"
      ],
      "execution_count": null,
      "outputs": []
    },
    {
      "cell_type": "code",
      "metadata": {
        "id": "GsAzhKtTyolS"
      },
      "source": [
        "#Unzipping the dataset\n",
        "!p7zip -d /content/train.7z"
      ],
      "execution_count": null,
      "outputs": []
    },
    {
      "cell_type": "code",
      "metadata": {
        "id": "eXYLnQneyzJQ"
      },
      "source": [
        "#Removing unneccessary files and folders\n",
        "! rm -frv /content/train/audio/_background_noise_\n",
        "! rm -frv /content/train/audio/bed\n",
        "! rm -frv /content/train/audio/bird\n",
        "! rm -frv /content/train/audio/cat\n",
        "! rm -frv /content/train/audio/dog\n",
        "! rm -frv /content/train/audio/go\n",
        "! rm -frv /content/train/audio/happy\n",
        "! rm -frv /content/train/audio/house\n",
        "! rm -frv /content/train/audio/marvin\n",
        "! rm -frv /content/train/audio/no\n",
        "! rm -frv /content/train/audio/sheila\n",
        "! rm -frv /content/train/audio/stop\n",
        "! rm -frv /content/train/audio/tree\n",
        "! rm -frv /content/train/audio/wow\n",
        "! rm -frv /content/train/audio/yes"
      ],
      "execution_count": null,
      "outputs": []
    },
    {
      "cell_type": "code",
      "metadata": {
        "id": "kh9jMhCLOXAb"
      },
      "source": [
        "#Getting 2nd part of dataset from drive\n",
        "!cp -r /content/drive/MyDrive/records /content/train/audio"
      ],
      "execution_count": null,
      "outputs": []
    },
    {
      "cell_type": "code",
      "metadata": {
        "id": "ZMx8JyKMrZHp"
      },
      "source": [
        "from google.colab import drive\n",
        "drive.mount('/content/drive')"
      ],
      "execution_count": null,
      "outputs": []
    },
    {
      "cell_type": "code",
      "metadata": {
        "id": "6V-YRYJvQ6hd"
      },
      "source": [
        "!mv /content/train/audio/down/* /content/train/audio/records/down"
      ],
      "execution_count": null,
      "outputs": []
    },
    {
      "cell_type": "code",
      "metadata": {
        "id": "4Q-GC34soxxH"
      },
      "source": [
        "!mv /content/train/audio/zero/* /content/train/audio/records/0"
      ],
      "execution_count": null,
      "outputs": []
    },
    {
      "cell_type": "code",
      "metadata": {
        "id": "rxTHWv-2H5Dl"
      },
      "source": [
        "!mv /content/train/audio/one/* /content/train/audio/records/1\n",
        "!mv /content/train/audio/two/* /content/train/audio/records/2\n",
        "!mv /content/train/audio/three/* /content/train/audio/records/3\n",
        "!mv /content/train/audio/four/* /content/train/audio/records/4\n",
        "!mv /content/train/audio/five/* /content/train/audio/records/5\n",
        "!mv /content/train/audio/six/* /content/train/audio/records/6\n",
        "!mv /content/train/audio/seven/* /content/train/audio/records/7\n",
        "!mv /content/train/audio/eight/* /content/train/audio/records/8\n",
        "!mv /content/train/audio/nine/* /content/train/audio/records/9\n",
        "!mv /content/train/audio/on /content/train/audio/records\n",
        "!mv /content/train/audio/off /content/train/audio/records\n",
        "!mv /content/train/audio/left/* /content/train/audio/records/left\n",
        "!mv /content/train/audio/right/* /content/train/audio/records/right\n",
        "!mv /content/train/audio/up/* /content/train/audio/records/up"
      ],
      "execution_count": null,
      "outputs": []
    },
    {
      "cell_type": "code",
      "metadata": {
        "id": "cji-AfeGdR0y"
      },
      "source": [
        "!echo /content/train/audio/records/*"
      ],
      "execution_count": null,
      "outputs": []
    },
    {
      "cell_type": "code",
      "metadata": {
        "id": "uxl81Cg9dK4r"
      },
      "source": [
        "!rm /content/train/audio/records/*"
      ],
      "execution_count": null,
      "outputs": []
    },
    {
      "cell_type": "markdown",
      "metadata": {
        "id": "Zv4lUOd1hM04"
      },
      "source": [
        "#Data Augmentation and loading\n",
        "Since the number of classes are way too more, in this section we are trying to increase our data hungry classes to feed some data which is of course not sufficient and could create an imbalance if large number of files are created from a imperfect clip so we are creating limited number of files (which is still too much but we don't have data so it's our only option)\n",
        "\n",
        "\n",
        "**A large number of ideas for this section were taken from ->**\n",
        "\n",
        "https://www.kaggle.com/CVxTz/audio-data-augmentation"
      ]
    },
    {
      "cell_type": "code",
      "metadata": {
        "id": "daAfGj7bUx9O"
      },
      "source": [
        "import os\n",
        "import librosa\n",
        "import matplotlib.pyplot as plt\n",
        "import numpy as np\n",
        "from scipy.io import wavfile\n",
        "from scipy.io.wavfile import write"
      ],
      "execution_count": null,
      "outputs": []
    },
    {
      "cell_type": "code",
      "metadata": {
        "id": "8XAGNrRjapLg"
      },
      "source": [
        "def load_audio_file(file_path):\n",
        "  '''\n",
        "  For loading audio clip in desired format\n",
        "  '''\n",
        "    input_length = 8000\n",
        "    data = librosa.core.load(file_path)[0]\n",
        "    if len(data)>input_length:\n",
        "        data = data[:input_length]\n",
        "    else:\n",
        "        data = np.pad(data, (0, max(0, input_length - len(data))), \"constant\")\n",
        "    return data\n",
        "\n",
        "def plot_time_series(data):\n",
        "  '''\n",
        "  For plotting the audio data\n",
        "  '''\n",
        "    fig = plt.figure(figsize=(14, 8))\n",
        "    plt.title('Raw wave ')\n",
        "    plt.ylabel('Amplitude')\n",
        "    plt.plot(np.linspace(0, 1, len(data)), data)\n",
        "    plt.show()"
      ],
      "execution_count": null,
      "outputs": []
    },
    {
      "cell_type": "code",
      "metadata": {
        "id": "_DN_BJhOmiHY",
        "colab": {
          "base_uri": "https://localhost:8080/",
          "height": 498
        },
        "outputId": "1711868f-3439-4043-f855-cc7a0e1ad079"
      },
      "source": [
        "plot_time_series(load_audio_file('/content/train/audio/records/activate/activate (2).wav'))"
      ],
      "execution_count": null,
      "outputs": [
        {
          "output_type": "display_data",
          "data": {
            "image/png": "[encoded data removed]",
            "text/plain": [
              "<Figure size 1008x576 with 1 Axes>"
            ]
          },
          "metadata": {
            "tags": [],
            "needs_background": "light"
          }
        }
      ]
    },
    {
      "cell_type": "code",
      "metadata": {
        "id": "RIBFNRZmhxqJ"
      },
      "source": [
        "def AddingNoise(dest, sr, data):\n",
        "  '''\n",
        "  Adding random noise to audio files\n",
        "  '''\n",
        "  wn = np.random.randn(len(data))\n",
        "  data_wn = data + 0.005*wn\n",
        "  write(dest, sr, data_wn)"
      ],
      "execution_count": null,
      "outputs": []
    },
    {
      "cell_type": "code",
      "metadata": {
        "id": "dWF3j6xNiUuz"
      },
      "source": [
        "def SoundShift(dest, sr, data):\n",
        "  '''\n",
        "  Shifting the amplitude values\n",
        "  '''\n",
        "  data_roll = np.roll(data, 800)\n",
        "  # plot_time_series(data_roll)\n",
        "  # ipd.Audio(data_roll, rate=sr)\n",
        "  write(dest, sr, data_roll)"
      ],
      "execution_count": null,
      "outputs": []
    },
    {
      "cell_type": "code",
      "metadata": {
        "id": "BxbHQSuCinSq"
      },
      "source": [
        "def SoundStretch(data, dest, sr, rate=1):\n",
        "  '''\n",
        "  For stretching the audio clips\n",
        "  '''\n",
        "    input_length = sr\n",
        "    data = librosa.effects.time_stretch(data, rate)\n",
        "    if len(data)>input_length:\n",
        "        data = data[:input_length]\n",
        "    else:\n",
        "        data = np.pad(data, (0, max(0, input_length - len(data))), \"constant\")\n",
        "    write(dest, sr, data)"
      ],
      "execution_count": null,
      "outputs": []
    },
    {
      "cell_type": "code",
      "metadata": {
        "id": "JUtfzglJbN4K",
        "colab": {
          "base_uri": "https://localhost:8080/"
        },
        "outputId": "be2ac8f2-3aa2-4355-ca0b-6a5a1c90fbea"
      },
      "source": [
        "#Collecting unique labels from the dataset and counting number of files belonging to each class\n",
        "train_audio_path = 'train/audio/records'\n",
        "labels=os.listdir(train_audio_path)\n",
        "print(labels)\n",
        "\n",
        "no_of_recordings=[]\n",
        "for label in labels:\n",
        "    waves = [f for f in os.listdir(train_audio_path + '/'+ label) if f.endswith('.wav')]\n",
        "    no_of_recordings.append(len(waves))"
      ],
      "execution_count": null,
      "outputs": [
        {
          "output_type": "stream",
          "text": [
            "['save', 'right', 'quotes', 'less', 'goto', 'iostream', 'std', 'down', 'misty', 'pair', 'tab', 'first', 'compile', 'make', 'break', 'run', 'move', 'include', '0', 'activate', 'slash', 'modulo', 'backslash', 'left', 'divide', '9', '8', 'unsigned', 'deactivate', 'set', 'else', 'escape', 'null', 'if', 'equal to', 'unordered_set', 'open', '4', 'up', '6', 'unknown', 'map', 'char', '5', 'vector', '2', 'bits slash std c plus plus dot h', 'delete', 'main', 'short', '7', 'while', 'add', 'double', 'plus', 'false', 'true', 'or', 'string', 'underscore', 'bitwise', 'second', 'npos', 'define', 'new', 'using', 'do', 'switch', 'long', 'typedef', 'remove', 'and', 'sizeof', 'not', 'unordered_map', 'character', 'bool', 'read', 'line', 'off', 'shift', 'float', 'hey', 'unordered', 'iterator', 'newline', 'continue', 'position', '3', 'void', 'column', '1', 'namespace', 'greater', 'for', 'int', 'xor']\n"
          ],
          "name": "stdout"
        }
      ]
    },
    {
      "cell_type": "code",
      "metadata": {
        "id": "tA8_k-1Ts8kQ"
      },
      "source": [
        "from pathlib import Path\n",
        "import random\n",
        "\n",
        "def DeleteFiles(directory, num, extension='wav'):\n",
        "  '''\n",
        "  For deleting random files from a directory\n",
        "  '''\n",
        "    files = Path(directory).glob(f'*.{extension}')\n",
        "    for file in random.sample(list(files), num):\n",
        "        file.unlink()"
      ],
      "execution_count": null,
      "outputs": []
    },
    {
      "cell_type": "code",
      "metadata": {
        "id": "mO0qvl_okzrM"
      },
      "source": [
        "#If number of files in any directory are more than 200 they are deleted randomly so that the model is not bias towards any toke particularly\n",
        "count=0\n",
        "for label in labels:\n",
        "  fcount = no_of_recordings[count]\n",
        "  if fcount > 200:\n",
        "    DeleteFiles(train_audio_path + '/'+ label, fcount-200, 'wav')\n",
        "  count+=1\n"
      ],
      "execution_count": null,
      "outputs": []
    },
    {
      "cell_type": "code",
      "metadata": {
        "id": "Jr7ihc6wvjAe"
      },
      "source": [
        "def AudioAugmentation(dest, sr, data):\n",
        "  '''\n",
        "  Combines previously defined 3 functions for augmentation and genrated about 200 files for each directory in a single go\n",
        "  '''\n",
        "  for i in range(40, 100, 4):\n",
        "    dest2 = dest + '/' + str(time.time()) + '.wav'\n",
        "    # print(dest)\n",
        "    rate = random.random()\n",
        "    rate = round(rate,2) + 0.04\n",
        "    # print(rate)\n",
        "    SoundStretch(data, dest2, sr, rate)\n",
        "  for _ in range(1, 16):    \n",
        "    dest2 = dest + '/' + str(time.time()) + '.wav'\n",
        "    AddingNoise(dest2, sr, data)\n",
        "  for i in range (600, 1200, 40):\n",
        "    dest2 = dest + '/' + str(time.time()) + '.wav'\n",
        "    SoundShift(dest2, sr, data)"
      ],
      "execution_count": null,
      "outputs": []
    },
    {
      "cell_type": "code",
      "metadata": {
        "id": "cgUIL8aYvATX"
      },
      "source": [
        "#Audio files with labels whose count is less than 200 are augmented\n",
        "import time\n",
        "count=0\n",
        "for label in labels:\n",
        "  fcount = no_of_recordings[count]\n",
        "  if fcount < 200:\n",
        "    for f in os.listdir(train_audio_path + '/'+ label):\n",
        "      dest = train_audio_path + '/'+ label\n",
        "      # print(dest+'/'+f)\n",
        "      data = load_audio_file(dest + '/' + f)\n",
        "      AudioAugmentation(dest, 8000, data)\n",
        "  count+=1"
      ],
      "execution_count": null,
      "outputs": []
    },
    {
      "cell_type": "markdown",
      "metadata": {
        "id": "4yw2JgXtB2MX"
      },
      "source": [
        "#Data Split and Input Preparation\n",
        "\n",
        "Splitting the dataset and preparing it for giving it as an input to our model"
      ]
    },
    {
      "cell_type": "code",
      "metadata": {
        "id": "_f8P2dr0_zjw"
      },
      "source": [
        "import tensorflow as tf"
      ],
      "execution_count": null,
      "outputs": []
    },
    {
      "cell_type": "code",
      "metadata": {
        "id": "qi1WUQKZAC0v"
      },
      "source": [
        "from tensorflow.keras.utils import to_categorical\n",
        "from sklearn.model_selection import train_test_split\n",
        "from tensorflow.keras.layers import Dense, Dropout, Flatten, Conv1D, Input, MaxPooling1D, BatchNormalization\n",
        "from tensorflow.keras import Sequential\n",
        "from tensorflow.keras.callbacks import EarlyStopping, ModelCheckpoint"
      ],
      "execution_count": null,
      "outputs": []
    },
    {
      "cell_type": "code",
      "metadata": {
        "id": "GmXRzXGPc9rc"
      },
      "source": [
        "#Storing all audio clips in a single list \n",
        "train_audios = []\n",
        "train_labels = []\n",
        "for label in labels:\n",
        "    # print(label)\n",
        "    waves = [f for f in os.listdir(train_audio_path + '/'+ label) if f.endswith('.wav')]\n",
        "    for wav in waves:\n",
        "        samples = load_audio_file(train_audio_path + '/' + label + '/' + wav, )\n",
        "        if(len(samples)== 8000) : \n",
        "            train_audios.append(samples)\n",
        "            train_labels.append(label)"
      ],
      "execution_count": null,
      "outputs": []
    },
    {
      "cell_type": "code",
      "metadata": {
        "id": "hiX5Uvk8eUJv"
      },
      "source": [
        "#Encoding all labels into one hot vector\n",
        "from sklearn.preprocessing import LabelEncoder\n",
        "le = LabelEncoder()\n",
        "y=le.fit_transform(train_labels)\n",
        "classes= list(le.classes_)"
      ],
      "execution_count": null,
      "outputs": []
    },
    {
      "cell_type": "code",
      "metadata": {
        "id": "K75x90T0eNMY"
      },
      "source": [
        "y=to_categorical(y, num_classes=len(labels))"
      ],
      "execution_count": null,
      "outputs": []
    },
    {
      "cell_type": "code",
      "metadata": {
        "colab": {
          "base_uri": "https://localhost:8080/"
        },
        "id": "7xWdI62pivps",
        "outputId": "190c273c-91a9-4b4c-dda5-81de5898350b"
      },
      "source": [
        "print(len(labels))"
      ],
      "execution_count": null,
      "outputs": [
        {
          "output_type": "stream",
          "text": [
            "97\n"
          ],
          "name": "stdout"
        }
      ]
    },
    {
      "cell_type": "code",
      "metadata": {
        "id": "HP4hHm5zdokt"
      },
      "source": [
        "train_audios = np.array(train_audios).reshape(-1,8000,1)"
      ],
      "execution_count": null,
      "outputs": []
    },
    {
      "cell_type": "code",
      "metadata": {
        "id": "XzH1-u1sA7A4"
      },
      "source": [
        "#Splitting into 80 and 20 for training and validation respectively\n",
        "X_train, X_val, Y_train, Y_val = train_test_split(np.array(train_audios),np.array(y),stratify=y,test_size = 0.20,random_state=777,shuffle=True)"
      ],
      "execution_count": null,
      "outputs": []
    },
    {
      "cell_type": "markdown",
      "metadata": {
        "id": "jbv1SJSPDW_F"
      },
      "source": [
        "#Creating model and analysing the results\n",
        "\n",
        "Model consists of **4 Convolutional blocks** followed by a **Flatten layer and then a Dense layer** before the output layer.\n",
        "\n",
        "Convolutional block consists of a **Conv1D layer followed by BatchNormalization and Max Pooling of obtained weights** and then **Dropout** for avoiding overfitting.\n",
        "\n"
      ]
    },
    {
      "cell_type": "code",
      "metadata": {
        "id": "1Vyu0dKsDhl_"
      },
      "source": [
        "model = Sequential([\n",
        "                    Input(shape=(8000,1)),\n",
        "                    Conv1D(16, 13, 1, padding='valid', activation='relu'),\n",
        "                    BatchNormalization(),\n",
        "                    MaxPooling1D(3),\n",
        "                    Dropout(0.3),\n",
        "\n",
        "                    Conv1D(32, 11, 1, padding='valid', activation='relu'),\n",
        "                    BatchNormalization(),\n",
        "                    MaxPooling1D(3),\n",
        "                    Dropout(0.5),\n",
        "\n",
        "                    Conv1D(64, 9, 1, padding='valid', activation='relu'),\n",
        "                    BatchNormalization(),\n",
        "                    MaxPooling1D(3),\n",
        "                    Dropout(0.6),\n",
        "\n",
        "                    Conv1D(128, 7, 1, padding='valid', activation='relu'),\n",
        "                    BatchNormalization(),\n",
        "                    MaxPooling1D(3),\n",
        "                    Dropout(0.6),\n",
        "\n",
        "                    Conv1D(256, 7, 1, padding='valid', activation='relu'),\n",
        "                    BatchNormalization(),\n",
        "                    MaxPooling1D(3),\n",
        "                    Dropout(0.6),\n",
        "\n",
        "                    Flatten(),\n",
        "\n",
        "                    Dense(256, activation='relu'),\n",
        "                    BatchNormalization(),\n",
        "                    Dropout(0.4),\n",
        "\n",
        "                    Dense(len(labels), activation='softmax')\n",
        "                  ])\n"
      ],
      "execution_count": null,
      "outputs": []
    },
    {
      "cell_type": "code",
      "metadata": {
        "id": "Z9c05_JXI7K7"
      },
      "source": [
        "model.compile(loss='categorical_crossentropy',optimizer='adam', metrics=['accuracy'])"
      ],
      "execution_count": null,
      "outputs": []
    },
    {
      "cell_type": "code",
      "metadata": {
        "colab": {
          "base_uri": "https://localhost:8080/"
        },
        "id": "0cf6UBEvLqqH",
        "outputId": "8b2f37eb-5b02-4ee8-bca5-fcb993d76db7"
      },
      "source": [
        "model.summary()"
      ],
      "execution_count": null,
      "outputs": [
        {
          "output_type": "stream",
          "text": [
            "Model: \"sequential_3\"\n",
            "_________________________________________________________________\n",
            "Layer (type)                 Output Shape              Param #   \n",
            "=================================================================\n",
            "conv1d_15 (Conv1D)           (None, 7988, 16)          224       \n",
            "_________________________________________________________________\n",
            "batch_normalization_18 (Batc (None, 7988, 16)          64        \n",
            "_________________________________________________________________\n",
            "max_pooling1d_15 (MaxPooling (None, 2662, 16)          0         \n",
            "_________________________________________________________________\n",
            "dropout_18 (Dropout)         (None, 2662, 16)          0         \n",
            "_________________________________________________________________\n",
            "conv1d_16 (Conv1D)           (None, 2652, 32)          5664      \n",
            "_________________________________________________________________\n",
            "batch_normalization_19 (Batc (None, 2652, 32)          128       \n",
            "_________________________________________________________________\n",
            "max_pooling1d_16 (MaxPooling (None, 884, 32)           0         \n",
            "_________________________________________________________________\n",
            "dropout_19 (Dropout)         (None, 884, 32)           0         \n",
            "_________________________________________________________________\n",
            "conv1d_17 (Conv1D)           (None, 876, 64)           18496     \n",
            "_________________________________________________________________\n",
            "batch_normalization_20 (Batc (None, 876, 64)           256       \n",
            "_________________________________________________________________\n",
            "max_pooling1d_17 (MaxPooling (None, 292, 64)           0         \n",
            "_________________________________________________________________\n",
            "dropout_20 (Dropout)         (None, 292, 64)           0         \n",
            "_________________________________________________________________\n",
            "conv1d_18 (Conv1D)           (None, 286, 128)          57472     \n",
            "_________________________________________________________________\n",
            "batch_normalization_21 (Batc (None, 286, 128)          512       \n",
            "_________________________________________________________________\n",
            "max_pooling1d_18 (MaxPooling (None, 95, 128)           0         \n",
            "_________________________________________________________________\n",
            "dropout_21 (Dropout)         (None, 95, 128)           0         \n",
            "_________________________________________________________________\n",
            "conv1d_19 (Conv1D)           (None, 89, 256)           229632    \n",
            "_________________________________________________________________\n",
            "batch_normalization_22 (Batc (None, 89, 256)           1024      \n",
            "_________________________________________________________________\n",
            "max_pooling1d_19 (MaxPooling (None, 29, 256)           0         \n",
            "_________________________________________________________________\n",
            "dropout_22 (Dropout)         (None, 29, 256)           0         \n",
            "_________________________________________________________________\n",
            "flatten_3 (Flatten)          (None, 7424)              0         \n",
            "_________________________________________________________________\n",
            "dense_6 (Dense)              (None, 256)               1900800   \n",
            "_________________________________________________________________\n",
            "batch_normalization_23 (Batc (None, 256)               1024      \n",
            "_________________________________________________________________\n",
            "dropout_23 (Dropout)         (None, 256)               0         \n",
            "_________________________________________________________________\n",
            "dense_7 (Dense)              (None, 97)                24929     \n",
            "=================================================================\n",
            "Total params: 2,240,225\n",
            "Trainable params: 2,238,721\n",
            "Non-trainable params: 1,504\n",
            "_________________________________________________________________\n"
          ],
          "name": "stdout"
        }
      ]
    },
    {
      "cell_type": "code",
      "metadata": {
        "id": "AcklyhUzKHkZ"
      },
      "source": [
        "#Callback for stopping the training when validation accuracy hits 0.7\n",
        "class myCallback(tf.keras.callbacks.Callback): \n",
        "  def on_epoch_end(self, epoch, logs={}): \n",
        "    if(logs.get('val_accuracy') > 0.7):   \n",
        "      self.model.stop_training = True"
      ],
      "execution_count": null,
      "outputs": []
    },
    {
      "cell_type": "code",
      "metadata": {
        "id": "3chTMcFoKP1e"
      },
      "source": [
        "#Creating instance of mycallback class\n",
        "EarlyStopping = myCallback()"
      ],
      "execution_count": null,
      "outputs": []
    },
    {
      "cell_type": "code",
      "metadata": {
        "id": "lpYkqAowJfJS"
      },
      "source": [
        "#Stores model weights at the end of every epoch\n",
        "CheckPoint = ModelCheckpoint(filepath = '/content/drive/MyDrive/records/model.epoch{epoch:02d}-acc{val_accuracy:.2f}.h5', monitor='val_accuracy', verbose=1, mode='max')\n"
      ],
      "execution_count": null,
      "outputs": []
    },
    {
      "cell_type": "code",
      "metadata": {
        "colab": {
          "base_uri": "https://localhost:8080/"
        },
        "id": "Tu3CnZgzOMkV",
        "outputId": "e3eb6241-5fad-4c83-fa48-36622b73c806"
      },
      "source": [
        "#Fitting the model on dataset\n",
        "history=model.fit(X_train, Y_train ,epochs=100, callbacks=[EarlyStopping, CheckPoint], batch_size=32, validation_data=(X_val,Y_val), verbose=1)"
      ],
      "execution_count": null,
      "outputs": [
        {
          "output_type": "stream",
          "text": [
            "Epoch 1/100\n",
            "427/427 [==============================] - 11s 23ms/step - loss: 5.1742 - accuracy: 0.0142 - val_loss: 4.9050 - val_accuracy: 0.0120\n",
            "\n",
            "Epoch 00001: saving model to /content/drive/MyDrive/records/model.epoch01-acc0.01.h5\n",
            "Epoch 2/100\n",
            "427/427 [==============================] - 9s 21ms/step - loss: 4.7735 - accuracy: 0.0189 - val_loss: 4.6034 - val_accuracy: 0.0164\n",
            "\n",
            "Epoch 00002: saving model to /content/drive/MyDrive/records/model.epoch02-acc0.02.h5\n",
            "Epoch 3/100\n",
            "427/427 [==============================] - 9s 22ms/step - loss: 4.6397 - accuracy: 0.0256 - val_loss: 4.5055 - val_accuracy: 0.0182\n",
            "\n",
            "Epoch 00003: saving model to /content/drive/MyDrive/records/model.epoch03-acc0.02.h5\n",
            "Epoch 4/100\n",
            "427/427 [==============================] - 9s 21ms/step - loss: 4.4914 - accuracy: 0.0378 - val_loss: 4.4680 - val_accuracy: 0.0408\n",
            "\n",
            "Epoch 00004: saving model to /content/drive/MyDrive/records/model.epoch04-acc0.04.h5\n",
            "Epoch 5/100\n",
            "427/427 [==============================] - 9s 22ms/step - loss: 4.3265 - accuracy: 0.0691 - val_loss: 4.2005 - val_accuracy: 0.1164\n",
            "\n",
            "Epoch 00005: saving model to /content/drive/MyDrive/records/model.epoch05-acc0.12.h5\n",
            "Epoch 6/100\n",
            "427/427 [==============================] - 9s 22ms/step - loss: 4.0707 - accuracy: 0.1134 - val_loss: 4.5130 - val_accuracy: 0.0484\n",
            "\n",
            "Epoch 00006: saving model to /content/drive/MyDrive/records/model.epoch06-acc0.05.h5\n",
            "Epoch 7/100\n",
            "427/427 [==============================] - 9s 22ms/step - loss: 3.9193 - accuracy: 0.1499 - val_loss: 3.6574 - val_accuracy: 0.2460\n",
            "\n",
            "Epoch 00007: saving model to /content/drive/MyDrive/records/model.epoch07-acc0.25.h5\n",
            "Epoch 8/100\n",
            "427/427 [==============================] - 9s 22ms/step - loss: 3.6255 - accuracy: 0.2104 - val_loss: 3.6403 - val_accuracy: 0.2493\n",
            "\n",
            "Epoch 00008: saving model to /content/drive/MyDrive/records/model.epoch08-acc0.25.h5\n",
            "Epoch 9/100\n",
            "427/427 [==============================] - 9s 22ms/step - loss: 3.4156 - accuracy: 0.2525 - val_loss: 3.4485 - val_accuracy: 0.3076\n",
            "\n",
            "Epoch 00009: saving model to /content/drive/MyDrive/records/model.epoch09-acc0.31.h5\n",
            "Epoch 10/100\n",
            "427/427 [==============================] - 9s 22ms/step - loss: 3.2280 - accuracy: 0.3049 - val_loss: 3.1090 - val_accuracy: 0.3698\n",
            "\n",
            "Epoch 00010: saving model to /content/drive/MyDrive/records/model.epoch10-acc0.37.h5\n",
            "Epoch 11/100\n",
            "427/427 [==============================] - 9s 22ms/step - loss: 3.0712 - accuracy: 0.3366 - val_loss: 3.8658 - val_accuracy: 0.2123\n",
            "\n",
            "Epoch 00011: saving model to /content/drive/MyDrive/records/model.epoch11-acc0.21.h5\n",
            "Epoch 12/100\n",
            "427/427 [==============================] - 9s 22ms/step - loss: 2.9417 - accuracy: 0.3599 - val_loss: 3.2054 - val_accuracy: 0.3375\n",
            "\n",
            "Epoch 00012: saving model to /content/drive/MyDrive/records/model.epoch12-acc0.34.h5\n",
            "Epoch 13/100\n",
            "427/427 [==============================] - 9s 22ms/step - loss: 2.8462 - accuracy: 0.3790 - val_loss: 3.1672 - val_accuracy: 0.3604\n",
            "\n",
            "Epoch 00013: saving model to /content/drive/MyDrive/records/model.epoch13-acc0.36.h5\n",
            "Epoch 14/100\n",
            "427/427 [==============================] - 9s 22ms/step - loss: 2.8088 - accuracy: 0.3815 - val_loss: 9.7961 - val_accuracy: 0.0921\n",
            "\n",
            "Epoch 00014: saving model to /content/drive/MyDrive/records/model.epoch14-acc0.09.h5\n",
            "Epoch 15/100\n",
            "427/427 [==============================] - 9s 22ms/step - loss: 2.6820 - accuracy: 0.4080 - val_loss: 3.2637 - val_accuracy: 0.3704\n",
            "\n",
            "Epoch 00015: saving model to /content/drive/MyDrive/records/model.epoch15-acc0.37.h5\n",
            "Epoch 16/100\n",
            "427/427 [==============================] - 9s 22ms/step - loss: 2.5967 - accuracy: 0.4239 - val_loss: 2.8275 - val_accuracy: 0.4284\n",
            "\n",
            "Epoch 00016: saving model to /content/drive/MyDrive/records/model.epoch16-acc0.43.h5\n",
            "Epoch 17/100\n",
            "427/427 [==============================] - 9s 22ms/step - loss: 2.5269 - accuracy: 0.4366 - val_loss: 14.8409 - val_accuracy: 0.0827\n",
            "\n",
            "Epoch 00017: saving model to /content/drive/MyDrive/records/model.epoch17-acc0.08.h5\n",
            "Epoch 18/100\n",
            "427/427 [==============================] - 9s 22ms/step - loss: 2.4769 - accuracy: 0.4558 - val_loss: 2.7107 - val_accuracy: 0.4428\n",
            "\n",
            "Epoch 00018: saving model to /content/drive/MyDrive/records/model.epoch18-acc0.44.h5\n",
            "Epoch 19/100\n",
            "427/427 [==============================] - 9s 22ms/step - loss: 2.4180 - accuracy: 0.4636 - val_loss: 15.4063 - val_accuracy: 0.1044\n",
            "\n",
            "Epoch 00019: saving model to /content/drive/MyDrive/records/model.epoch19-acc0.10.h5\n",
            "Epoch 20/100\n",
            "427/427 [==============================] - 9s 22ms/step - loss: 2.3478 - accuracy: 0.4761 - val_loss: 28.9267 - val_accuracy: 0.0516\n",
            "\n",
            "Epoch 00020: saving model to /content/drive/MyDrive/records/model.epoch20-acc0.05.h5\n",
            "Epoch 21/100\n",
            "427/427 [==============================] - 9s 22ms/step - loss: 2.3042 - accuracy: 0.4827 - val_loss: 2.7259 - val_accuracy: 0.4625\n",
            "\n",
            "Epoch 00021: saving model to /content/drive/MyDrive/records/model.epoch21-acc0.46.h5\n",
            "Epoch 22/100\n",
            "427/427 [==============================] - 9s 22ms/step - loss: 2.2620 - accuracy: 0.4899 - val_loss: 4.8022 - val_accuracy: 0.2519\n",
            "\n",
            "Epoch 00022: saving model to /content/drive/MyDrive/records/model.epoch22-acc0.25.h5\n",
            "Epoch 23/100\n",
            "427/427 [==============================] - 9s 22ms/step - loss: 2.2155 - accuracy: 0.4996 - val_loss: 4.4457 - val_accuracy: 0.3240\n",
            "\n",
            "Epoch 00023: saving model to /content/drive/MyDrive/records/model.epoch23-acc0.32.h5\n",
            "Epoch 24/100\n",
            "427/427 [==============================] - 9s 22ms/step - loss: 2.1631 - accuracy: 0.5090 - val_loss: 12.0045 - val_accuracy: 0.0944\n",
            "\n",
            "Epoch 00024: saving model to /content/drive/MyDrive/records/model.epoch24-acc0.09.h5\n",
            "Epoch 25/100\n",
            "427/427 [==============================] - 9s 22ms/step - loss: 2.1724 - accuracy: 0.5030 - val_loss: 5.1372 - val_accuracy: 0.3871\n",
            "\n",
            "Epoch 00025: saving model to /content/drive/MyDrive/records/model.epoch25-acc0.39.h5\n",
            "Epoch 26/100\n",
            "427/427 [==============================] - 9s 22ms/step - loss: 2.1198 - accuracy: 0.5139 - val_loss: 23.6383 - val_accuracy: 0.0569\n",
            "\n",
            "Epoch 00026: saving model to /content/drive/MyDrive/records/model.epoch26-acc0.06.h5\n",
            "Epoch 27/100\n",
            "427/427 [==============================] - 9s 22ms/step - loss: 2.0185 - accuracy: 0.5374 - val_loss: 10.4451 - val_accuracy: 0.1352\n",
            "\n",
            "Epoch 00027: saving model to /content/drive/MyDrive/records/model.epoch27-acc0.14.h5\n",
            "Epoch 28/100\n",
            "427/427 [==============================] - 9s 22ms/step - loss: 1.9952 - accuracy: 0.5448 - val_loss: 5.4733 - val_accuracy: 0.2469\n",
            "\n",
            "Epoch 00028: saving model to /content/drive/MyDrive/records/model.epoch28-acc0.25.h5\n",
            "Epoch 29/100\n",
            "427/427 [==============================] - 9s 22ms/step - loss: 2.0359 - accuracy: 0.5324 - val_loss: 7.6239 - val_accuracy: 0.1405\n",
            "\n",
            "Epoch 00029: saving model to /content/drive/MyDrive/records/model.epoch29-acc0.14.h5\n",
            "Epoch 30/100\n",
            "427/427 [==============================] - 9s 22ms/step - loss: 1.9381 - accuracy: 0.5523 - val_loss: 10.6685 - val_accuracy: 0.1537\n",
            "\n",
            "Epoch 00030: saving model to /content/drive/MyDrive/records/model.epoch30-acc0.15.h5\n",
            "Epoch 31/100\n",
            "427/427 [==============================] - 9s 22ms/step - loss: 1.8805 - accuracy: 0.5670 - val_loss: 28.3779 - val_accuracy: 0.0587\n",
            "\n",
            "Epoch 00031: saving model to /content/drive/MyDrive/records/model.epoch31-acc0.06.h5\n",
            "Epoch 32/100\n",
            "427/427 [==============================] - 9s 22ms/step - loss: 1.8999 - accuracy: 0.5561 - val_loss: 17.2757 - val_accuracy: 0.0894\n",
            "\n",
            "Epoch 00032: saving model to /content/drive/MyDrive/records/model.epoch32-acc0.09.h5\n",
            "Epoch 33/100\n",
            "427/427 [==============================] - 9s 22ms/step - loss: 1.8812 - accuracy: 0.5628 - val_loss: 6.7534 - val_accuracy: 0.1933\n",
            "\n",
            "Epoch 00033: saving model to /content/drive/MyDrive/records/model.epoch33-acc0.19.h5\n",
            "Epoch 34/100\n",
            "427/427 [==============================] - 9s 22ms/step - loss: 1.8534 - accuracy: 0.5630 - val_loss: 2.6844 - val_accuracy: 0.4610\n",
            "\n",
            "Epoch 00034: saving model to /content/drive/MyDrive/records/model.epoch34-acc0.46.h5\n",
            "Epoch 35/100\n",
            "427/427 [==============================] - 9s 22ms/step - loss: 1.8382 - accuracy: 0.5714 - val_loss: 2.6486 - val_accuracy: 0.4739\n",
            "\n",
            "Epoch 00035: saving model to /content/drive/MyDrive/records/model.epoch35-acc0.47.h5\n",
            "Epoch 36/100\n",
            "427/427 [==============================] - 9s 22ms/step - loss: 1.8509 - accuracy: 0.5675 - val_loss: 28.5373 - val_accuracy: 0.1085\n",
            "\n",
            "Epoch 00036: saving model to /content/drive/MyDrive/records/model.epoch36-acc0.11.h5\n",
            "Epoch 37/100\n",
            "427/427 [==============================] - 9s 22ms/step - loss: 1.7778 - accuracy: 0.5872 - val_loss: 52.4098 - val_accuracy: 0.0346\n",
            "\n",
            "Epoch 00037: saving model to /content/drive/MyDrive/records/model.epoch37-acc0.03.h5\n",
            "Epoch 38/100\n",
            "427/427 [==============================] - 9s 22ms/step - loss: 1.7755 - accuracy: 0.5842 - val_loss: 3.1608 - val_accuracy: 0.3592\n",
            "\n",
            "Epoch 00038: saving model to /content/drive/MyDrive/records/model.epoch38-acc0.36.h5\n",
            "Epoch 39/100\n",
            "427/427 [==============================] - 9s 22ms/step - loss: 1.7317 - accuracy: 0.5920 - val_loss: 4.5237 - val_accuracy: 0.3657\n",
            "\n",
            "Epoch 00039: saving model to /content/drive/MyDrive/records/model.epoch39-acc0.37.h5\n",
            "Epoch 40/100\n",
            "427/427 [==============================] - 9s 22ms/step - loss: 1.7237 - accuracy: 0.5938 - val_loss: 25.2825 - val_accuracy: 0.0856\n",
            "\n",
            "Epoch 00040: saving model to /content/drive/MyDrive/records/model.epoch40-acc0.09.h5\n",
            "Epoch 41/100\n",
            "427/427 [==============================] - 10s 22ms/step - loss: 1.6836 - accuracy: 0.5989 - val_loss: 2.7871 - val_accuracy: 0.4443\n",
            "\n",
            "Epoch 00041: saving model to /content/drive/MyDrive/records/model.epoch41-acc0.44.h5\n",
            "Epoch 42/100\n",
            "427/427 [==============================] - 9s 22ms/step - loss: 1.6379 - accuracy: 0.6129 - val_loss: 2.8386 - val_accuracy: 0.4364\n",
            "\n",
            "Epoch 00042: saving model to /content/drive/MyDrive/records/model.epoch42-acc0.44.h5\n",
            "Epoch 43/100\n",
            "427/427 [==============================] - 9s 22ms/step - loss: 1.6401 - accuracy: 0.6136 - val_loss: 2.8016 - val_accuracy: 0.4405\n",
            "\n",
            "Epoch 00043: saving model to /content/drive/MyDrive/records/model.epoch43-acc0.44.h5\n",
            "Epoch 44/100\n",
            "427/427 [==============================] - 9s 22ms/step - loss: 1.6660 - accuracy: 0.6052 - val_loss: 5.3227 - val_accuracy: 0.2390\n",
            "\n",
            "Epoch 00044: saving model to /content/drive/MyDrive/records/model.epoch44-acc0.24.h5\n",
            "Epoch 45/100\n",
            "427/427 [==============================] - 9s 22ms/step - loss: 1.6107 - accuracy: 0.6166 - val_loss: 2.5565 - val_accuracy: 0.4962\n",
            "\n",
            "Epoch 00045: saving model to /content/drive/MyDrive/records/model.epoch45-acc0.50.h5\n",
            "Epoch 46/100\n",
            "427/427 [==============================] - 9s 22ms/step - loss: 1.6076 - accuracy: 0.6187 - val_loss: 6.3860 - val_accuracy: 0.2364\n",
            "\n",
            "Epoch 00046: saving model to /content/drive/MyDrive/records/model.epoch46-acc0.24.h5\n",
            "Epoch 47/100\n",
            "427/427 [==============================] - 9s 22ms/step - loss: 1.6252 - accuracy: 0.6112 - val_loss: 13.0145 - val_accuracy: 0.0947\n",
            "\n",
            "Epoch 00047: saving model to /content/drive/MyDrive/records/model.epoch47-acc0.09.h5\n",
            "Epoch 48/100\n",
            "427/427 [==============================] - 9s 22ms/step - loss: 1.5386 - accuracy: 0.6320 - val_loss: 31.7039 - val_accuracy: 0.0748\n",
            "\n",
            "Epoch 00048: saving model to /content/drive/MyDrive/records/model.epoch48-acc0.07.h5\n",
            "Epoch 49/100\n",
            "427/427 [==============================] - 9s 22ms/step - loss: 1.5450 - accuracy: 0.6376 - val_loss: 3.4773 - val_accuracy: 0.4534\n",
            "\n",
            "Epoch 00049: saving model to /content/drive/MyDrive/records/model.epoch49-acc0.45.h5\n",
            "Epoch 50/100\n",
            "427/427 [==============================] - 9s 22ms/step - loss: 1.5246 - accuracy: 0.6406 - val_loss: 32.3478 - val_accuracy: 0.0595\n",
            "\n",
            "Epoch 00050: saving model to /content/drive/MyDrive/records/model.epoch50-acc0.06.h5\n",
            "Epoch 51/100\n",
            "427/427 [==============================] - 9s 22ms/step - loss: 1.5336 - accuracy: 0.6369 - val_loss: 32.2059 - val_accuracy: 0.0742\n",
            "\n",
            "Epoch 00051: saving model to /content/drive/MyDrive/records/model.epoch51-acc0.07.h5\n",
            "Epoch 52/100\n",
            "427/427 [==============================] - 9s 22ms/step - loss: 1.6016 - accuracy: 0.6206 - val_loss: 6.9737 - val_accuracy: 0.4290\n",
            "\n",
            "Epoch 00052: saving model to /content/drive/MyDrive/records/model.epoch52-acc0.43.h5\n",
            "Epoch 53/100\n",
            "427/427 [==============================] - 9s 22ms/step - loss: 1.5274 - accuracy: 0.6391 - val_loss: 5.8310 - val_accuracy: 0.2264\n",
            "\n",
            "Epoch 00053: saving model to /content/drive/MyDrive/records/model.epoch53-acc0.23.h5\n",
            "Epoch 54/100\n",
            "427/427 [==============================] - 9s 22ms/step - loss: 1.4923 - accuracy: 0.6528 - val_loss: 5.5125 - val_accuracy: 0.4109\n",
            "\n",
            "Epoch 00054: saving model to /content/drive/MyDrive/records/model.epoch54-acc0.41.h5\n",
            "Epoch 55/100\n",
            "427/427 [==============================] - 9s 22ms/step - loss: 1.4618 - accuracy: 0.6536 - val_loss: 7.6926 - val_accuracy: 0.1783\n",
            "\n",
            "Epoch 00055: saving model to /content/drive/MyDrive/records/model.epoch55-acc0.18.h5\n",
            "Epoch 56/100\n",
            "427/427 [==============================] - 9s 22ms/step - loss: 1.4471 - accuracy: 0.6570 - val_loss: 16.7225 - val_accuracy: 0.1056\n",
            "\n",
            "Epoch 00056: saving model to /content/drive/MyDrive/records/model.epoch56-acc0.11.h5\n",
            "Epoch 57/100\n",
            "427/427 [==============================] - 10s 22ms/step - loss: 1.4423 - accuracy: 0.6554 - val_loss: 5.0587 - val_accuracy: 0.2804\n",
            "\n",
            "Epoch 00057: saving model to /content/drive/MyDrive/records/model.epoch57-acc0.28.h5\n",
            "Epoch 58/100\n",
            "427/427 [==============================] - 9s 22ms/step - loss: 1.4789 - accuracy: 0.6511 - val_loss: 15.5122 - val_accuracy: 0.1029\n",
            "\n",
            "Epoch 00058: saving model to /content/drive/MyDrive/records/model.epoch58-acc0.10.h5\n",
            "Epoch 59/100\n",
            "427/427 [==============================] - 10s 22ms/step - loss: 1.5091 - accuracy: 0.6347 - val_loss: 7.6114 - val_accuracy: 0.1460\n",
            "\n",
            "Epoch 00059: saving model to /content/drive/MyDrive/records/model.epoch59-acc0.15.h5\n",
            "Epoch 60/100\n",
            "427/427 [==============================] - 9s 22ms/step - loss: 1.4349 - accuracy: 0.6568 - val_loss: 6.3795 - val_accuracy: 0.2018\n",
            "\n",
            "Epoch 00060: saving model to /content/drive/MyDrive/records/model.epoch60-acc0.20.h5\n",
            "Epoch 61/100\n",
            "427/427 [==============================] - 10s 22ms/step - loss: 1.3989 - accuracy: 0.6689 - val_loss: 4.1546 - val_accuracy: 0.4255\n",
            "\n",
            "Epoch 00061: saving model to /content/drive/MyDrive/records/model.epoch61-acc0.43.h5\n",
            "Epoch 62/100\n",
            "427/427 [==============================] - 9s 22ms/step - loss: 1.3953 - accuracy: 0.6688 - val_loss: 28.3328 - val_accuracy: 0.0903\n",
            "\n",
            "Epoch 00062: saving model to /content/drive/MyDrive/records/model.epoch62-acc0.09.h5\n",
            "Epoch 63/100\n",
            "427/427 [==============================] - 9s 22ms/step - loss: 1.3559 - accuracy: 0.6769 - val_loss: 2.5345 - val_accuracy: 0.5282\n",
            "\n",
            "Epoch 00063: saving model to /content/drive/MyDrive/records/model.epoch63-acc0.53.h5\n",
            "Epoch 64/100\n",
            "427/427 [==============================] - 9s 22ms/step - loss: 1.3628 - accuracy: 0.6759 - val_loss: 14.7640 - val_accuracy: 0.1425\n",
            "\n",
            "Epoch 00064: saving model to /content/drive/MyDrive/records/model.epoch64-acc0.14.h5\n",
            "Epoch 65/100\n",
            "427/427 [==============================] - 9s 22ms/step - loss: 1.3981 - accuracy: 0.6699 - val_loss: 16.9519 - val_accuracy: 0.1202\n",
            "\n",
            "Epoch 00065: saving model to /content/drive/MyDrive/records/model.epoch65-acc0.12.h5\n",
            "Epoch 66/100\n",
            "427/427 [==============================] - 9s 22ms/step - loss: 1.3277 - accuracy: 0.6820 - val_loss: 5.3673 - val_accuracy: 0.3167\n",
            "\n",
            "Epoch 00066: saving model to /content/drive/MyDrive/records/model.epoch66-acc0.32.h5\n",
            "Epoch 67/100\n",
            "427/427 [==============================] - 10s 22ms/step - loss: 1.3252 - accuracy: 0.6834 - val_loss: 4.4812 - val_accuracy: 0.3953\n",
            "\n",
            "Epoch 00067: saving model to /content/drive/MyDrive/records/model.epoch67-acc0.40.h5\n",
            "Epoch 68/100\n",
            "427/427 [==============================] - 9s 22ms/step - loss: 1.3302 - accuracy: 0.6870 - val_loss: 8.2960 - val_accuracy: 0.1610\n",
            "\n",
            "Epoch 00068: saving model to /content/drive/MyDrive/records/model.epoch68-acc0.16.h5\n",
            "Epoch 69/100\n",
            "427/427 [==============================] - 9s 22ms/step - loss: 1.3164 - accuracy: 0.6908 - val_loss: 5.7596 - val_accuracy: 0.2730\n",
            "\n",
            "Epoch 00069: saving model to /content/drive/MyDrive/records/model.epoch69-acc0.27.h5\n",
            "Epoch 70/100\n",
            "427/427 [==============================] - 10s 22ms/step - loss: 1.3025 - accuracy: 0.6909 - val_loss: 7.4687 - val_accuracy: 0.3962\n",
            "\n",
            "Epoch 00070: saving model to /content/drive/MyDrive/records/model.epoch70-acc0.40.h5\n",
            "Epoch 71/100\n",
            "427/427 [==============================] - 9s 22ms/step - loss: 1.2895 - accuracy: 0.7002 - val_loss: 4.9473 - val_accuracy: 0.3158\n",
            "\n",
            "Epoch 00071: saving model to /content/drive/MyDrive/records/model.epoch71-acc0.32.h5\n",
            "Epoch 72/100\n",
            "427/427 [==============================] - 9s 22ms/step - loss: 1.3093 - accuracy: 0.6876 - val_loss: 3.3666 - val_accuracy: 0.4633\n",
            "\n",
            "Epoch 00072: saving model to /content/drive/MyDrive/records/model.epoch72-acc0.46.h5\n",
            "Epoch 73/100\n",
            "427/427 [==============================] - 9s 22ms/step - loss: 1.2785 - accuracy: 0.6944 - val_loss: 9.6172 - val_accuracy: 0.1282\n",
            "\n",
            "Epoch 00073: saving model to /content/drive/MyDrive/records/model.epoch73-acc0.13.h5\n",
            "Epoch 74/100\n",
            "427/427 [==============================] - 9s 22ms/step - loss: 1.2465 - accuracy: 0.7039 - val_loss: 14.7456 - val_accuracy: 0.0886\n",
            "\n",
            "Epoch 00074: saving model to /content/drive/MyDrive/records/model.epoch74-acc0.09.h5\n",
            "Epoch 75/100\n",
            "427/427 [==============================] - 9s 22ms/step - loss: 1.2944 - accuracy: 0.6916 - val_loss: 7.8339 - val_accuracy: 0.1795\n",
            "\n",
            "Epoch 00075: saving model to /content/drive/MyDrive/records/model.epoch75-acc0.18.h5\n",
            "Epoch 76/100\n",
            "427/427 [==============================] - 9s 22ms/step - loss: 1.2514 - accuracy: 0.7048 - val_loss: 2.7051 - val_accuracy: 0.4912\n",
            "\n",
            "Epoch 00076: saving model to /content/drive/MyDrive/records/model.epoch76-acc0.49.h5\n",
            "Epoch 77/100\n",
            "427/427 [==============================] - 10s 22ms/step - loss: 1.2709 - accuracy: 0.6973 - val_loss: 3.5551 - val_accuracy: 0.4548\n",
            "\n",
            "Epoch 00077: saving model to /content/drive/MyDrive/records/model.epoch77-acc0.45.h5\n",
            "Epoch 78/100\n",
            "427/427 [==============================] - 9s 22ms/step - loss: 1.2182 - accuracy: 0.7105 - val_loss: 5.4590 - val_accuracy: 0.3015\n",
            "\n",
            "Epoch 00078: saving model to /content/drive/MyDrive/records/model.epoch78-acc0.30.h5\n",
            "Epoch 79/100\n",
            "427/427 [==============================] - 9s 22ms/step - loss: 1.2365 - accuracy: 0.7070 - val_loss: 2.5317 - val_accuracy: 0.5194\n",
            "\n",
            "Epoch 00079: saving model to /content/drive/MyDrive/records/model.epoch79-acc0.52.h5\n",
            "Epoch 80/100\n",
            "427/427 [==============================] - 10s 22ms/step - loss: 1.2204 - accuracy: 0.7147 - val_loss: 4.6796 - val_accuracy: 0.3953\n",
            "\n",
            "Epoch 00080: saving model to /content/drive/MyDrive/records/model.epoch80-acc0.40.h5\n",
            "Epoch 81/100\n",
            "427/427 [==============================] - 10s 22ms/step - loss: 1.2247 - accuracy: 0.7127 - val_loss: 2.5880 - val_accuracy: 0.5196\n",
            "\n",
            "Epoch 00081: saving model to /content/drive/MyDrive/records/model.epoch81-acc0.52.h5\n",
            "Epoch 82/100\n",
            "427/427 [==============================] - 10s 22ms/step - loss: 1.2311 - accuracy: 0.7060 - val_loss: 4.5139 - val_accuracy: 0.3935\n",
            "\n",
            "Epoch 00082: saving model to /content/drive/MyDrive/records/model.epoch82-acc0.39.h5\n",
            "Epoch 83/100\n",
            "427/427 [==============================] - 10s 22ms/step - loss: 1.2232 - accuracy: 0.7107 - val_loss: 11.0036 - val_accuracy: 0.1302\n",
            "\n",
            "Epoch 00083: saving model to /content/drive/MyDrive/records/model.epoch83-acc0.13.h5\n",
            "Epoch 84/100\n",
            "427/427 [==============================] - 10s 22ms/step - loss: 1.2137 - accuracy: 0.7162 - val_loss: 4.7885 - val_accuracy: 0.3780\n",
            "\n",
            "Epoch 00084: saving model to /content/drive/MyDrive/records/model.epoch84-acc0.38.h5\n",
            "Epoch 85/100\n",
            "427/427 [==============================] - 10s 22ms/step - loss: 1.2434 - accuracy: 0.7053 - val_loss: 5.5742 - val_accuracy: 0.3320\n",
            "\n",
            "Epoch 00085: saving model to /content/drive/MyDrive/records/model.epoch85-acc0.33.h5\n",
            "Epoch 86/100\n",
            "427/427 [==============================] - 10s 22ms/step - loss: 1.2041 - accuracy: 0.7169 - val_loss: 4.2953 - val_accuracy: 0.4581\n",
            "\n",
            "Epoch 00086: saving model to /content/drive/MyDrive/records/model.epoch86-acc0.46.h5\n",
            "Epoch 87/100\n",
            "427/427 [==============================] - 10s 22ms/step - loss: 1.2286 - accuracy: 0.7151 - val_loss: 6.2825 - val_accuracy: 0.2396\n",
            "\n",
            "Epoch 00087: saving model to /content/drive/MyDrive/records/model.epoch87-acc0.24.h5\n",
            "Epoch 88/100\n",
            "427/427 [==============================] - 9s 22ms/step - loss: 1.2209 - accuracy: 0.7127 - val_loss: 3.8597 - val_accuracy: 0.3924\n",
            "\n",
            "Epoch 00088: saving model to /content/drive/MyDrive/records/model.epoch88-acc0.39.h5\n",
            "Epoch 89/100\n",
            "427/427 [==============================] - 9s 22ms/step - loss: 1.2225 - accuracy: 0.7121 - val_loss: 8.8607 - val_accuracy: 0.1771\n",
            "\n",
            "Epoch 00089: saving model to /content/drive/MyDrive/records/model.epoch89-acc0.18.h5\n",
            "Epoch 90/100\n",
            "427/427 [==============================] - 9s 22ms/step - loss: 1.2370 - accuracy: 0.7079 - val_loss: 5.1806 - val_accuracy: 0.2959\n",
            "\n",
            "Epoch 00090: saving model to /content/drive/MyDrive/records/model.epoch90-acc0.30.h5\n",
            "Epoch 91/100\n",
            "427/427 [==============================] - 9s 22ms/step - loss: 1.1967 - accuracy: 0.7205 - val_loss: 4.9839 - val_accuracy: 0.3701\n",
            "\n",
            "Epoch 00091: saving model to /content/drive/MyDrive/records/model.epoch91-acc0.37.h5\n",
            "Epoch 92/100\n",
            "427/427 [==============================] - 9s 22ms/step - loss: 1.1709 - accuracy: 0.7265 - val_loss: 3.0021 - val_accuracy: 0.4977\n",
            "\n",
            "Epoch 00092: saving model to /content/drive/MyDrive/records/model.epoch92-acc0.50.h5\n",
            "Epoch 93/100\n",
            "427/427 [==============================] - 9s 22ms/step - loss: 1.1526 - accuracy: 0.7277 - val_loss: 5.7158 - val_accuracy: 0.3185\n",
            "\n",
            "Epoch 00093: saving model to /content/drive/MyDrive/records/model.epoch93-acc0.32.h5\n",
            "Epoch 94/100\n",
            "427/427 [==============================] - 9s 22ms/step - loss: 1.1734 - accuracy: 0.7215 - val_loss: 3.1283 - val_accuracy: 0.4982\n",
            "\n",
            "Epoch 00094: saving model to /content/drive/MyDrive/records/model.epoch94-acc0.50.h5\n",
            "Epoch 95/100\n",
            "427/427 [==============================] - 10s 22ms/step - loss: 1.1651 - accuracy: 0.7232 - val_loss: 10.1958 - val_accuracy: 0.2176\n",
            "\n",
            "Epoch 00095: saving model to /content/drive/MyDrive/records/model.epoch95-acc0.22.h5\n",
            "Epoch 96/100\n",
            "427/427 [==============================] - 9s 22ms/step - loss: 1.1620 - accuracy: 0.7256 - val_loss: 5.3436 - val_accuracy: 0.3504\n",
            "\n",
            "Epoch 00096: saving model to /content/drive/MyDrive/records/model.epoch96-acc0.35.h5\n",
            "Epoch 97/100\n",
            "427/427 [==============================] - 9s 22ms/step - loss: 1.1555 - accuracy: 0.7291 - val_loss: 4.8127 - val_accuracy: 0.3616\n",
            "\n",
            "Epoch 00097: saving model to /content/drive/MyDrive/records/model.epoch97-acc0.36.h5\n",
            "Epoch 98/100\n",
            "427/427 [==============================] - 9s 22ms/step - loss: 1.1432 - accuracy: 0.7306 - val_loss: 2.7111 - val_accuracy: 0.4780\n",
            "\n",
            "Epoch 00098: saving model to /content/drive/MyDrive/records/model.epoch98-acc0.48.h5\n",
            "Epoch 99/100\n",
            "427/427 [==============================] - 9s 22ms/step - loss: 1.1984 - accuracy: 0.7227 - val_loss: 11.6803 - val_accuracy: 0.2179\n",
            "\n",
            "Epoch 00099: saving model to /content/drive/MyDrive/records/model.epoch99-acc0.22.h5\n",
            "Epoch 100/100\n",
            "427/427 [==============================] - 9s 22ms/step - loss: 1.1766 - accuracy: 0.7250 - val_loss: 2.5184 - val_accuracy: 0.5396\n",
            "\n",
            "Epoch 00100: saving model to /content/drive/MyDrive/records/model.epoch100-acc0.54.h5\n"
          ],
          "name": "stdout"
        }
      ]
    },
    {
      "cell_type": "code",
      "metadata": {
        "id": "9lgdEhAIOiaH",
        "colab": {
          "base_uri": "https://localhost:8080/",
          "height": 264
        },
        "outputId": "3ebca268-7384-4251-f0dd-4f039902f23e"
      },
      "source": [
        "#Plotting epochs vs losses on training and validation set\n",
        "from matplotlib import pyplot \n",
        "pyplot.plot(history.history['loss'], label='train') \n",
        "pyplot.plot(history.history['val_loss'], label='test') \n",
        "pyplot.legend()\n",
        "pyplot.show()"
      ],
      "execution_count": null,
      "outputs": [
        {
          "output_type": "display_data",
          "data": {
            "image/png": "[encoded data removed]",
            "text/plain": [
              "<Figure size 432x288 with 1 Axes>"
            ]
          },
          "metadata": {
            "tags": [],
            "needs_background": "light"
          }
        }
      ]
    },
    {
      "cell_type": "code",
      "metadata": {
        "id": "JcWpZxbcOyx7",
        "colab": {
          "base_uri": "https://localhost:8080/",
          "height": 264
        },
        "outputId": "e1c04bfc-2328-4954-da32-e108d3983818"
      },
      "source": [
        "#Plotting epochs vs accuracy on both training and validation sets\n",
        "from matplotlib import pyplot \n",
        "pyplot.plot(history.history['accuracy'], label='train') \n",
        "pyplot.plot(history.history['val_accuracy'], label='test') \n",
        "pyplot.legend()\n",
        "pyplot.show()"
      ],
      "execution_count": null,
      "outputs": [
        {
          "output_type": "display_data",
          "data": {
            "image/png": "[encoded data removed]",
            "text/plain": [
              "<Figure size 432x288 with 1 Axes>"
            ]
          },
          "metadata": {
            "tags": [],
            "needs_background": "light"
          }
        }
      ]
    },
    {
      "cell_type": "markdown",
      "metadata": {
        "id": "4OqjsH7PE5nv"
      },
      "source": [
        "#Results\n",
        "\n",
        "From the performance of model on the training set no one would say that model overfits but the noise in the epochs vs loss and epochs vs accuracy graphs over validation sets suggest the **model is clearly overfitting**. The model architecture couldn't be blamed for it because the architecture is decent however the **deficiency of data** has lead us to this result"
      ]
    }
  ]
}